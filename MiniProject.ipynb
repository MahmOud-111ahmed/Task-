{
 "cells": [
  {
   "cell_type": "code",
   "execution_count": 2,
   "metadata": {},
   "outputs": [],
   "source": [
    "5# تعريف العمليات الأساسية\n",
    "def add(a, b):\n",
    "    return a + b\n",
    "\n",
    "def sub(a, b):\n",
    "    return a - b\n",
    "\n",
    "def mult(a, b):\n",
    "    return a * b\n",
    "\n",
    "def div(a, b):\n",
    "    if b != 0:\n",
    "        return a / b\n",
    "    else:\n",
    "        return \"Error: Division by zero\""
   ]
  },
  {
   "cell_type": "code",
   "execution_count": 3,
   "metadata": {},
   "outputs": [
    {
     "name": "stdout",
     "output_type": "stream",
     "text": [
      "Result: 20.0\n",
      "Exiting the program. Goodbye!\n"
     ]
    }
   ],
   "source": [
    "def main():\n",
    "    while True:\n",
    "        command = input(\"Enter command (add, sub, mult, div) or 'stop' to exit: \").strip().lower()#الاولي بتعمل انا تلغي المسافات و التانيه بتخلي الرحف كابتل \n",
    "        if command == 'stop':\n",
    "            print(\"Exiting the program. Goodbye!\")\n",
    "            break\n",
    "        elif command in ('add', 'sub', 'mult', 'div'):\n",
    "            try:\n",
    "                num1 = float(input(\"Enter the first number: \"))\n",
    "                num2 = float(input(\"Enter the second number: \"))\n",
    "                if command == 'add':\n",
    "                    print(\"Result:\", add(num1, num2))\n",
    "                elif command == 'sub':\n",
    "                    print(\"Result:\", sub(num1, num2))\n",
    "                elif command == 'mult':\n",
    "                    print(\"Result:\", mult(num1, num2))\n",
    "                elif command == 'div':\n",
    "                    print(\"Result:\", div(num1, num2))\n",
    "            except ValueError:\n",
    "                print(\"Error: Please enter valid numbers.\")\n",
    "        else:\n",
    "            print(\"Invalid command. Please try again.\")\n",
    "\n",
    "# تشغيل البرنامج\n",
    "main()\n"
   ]
  }
 ],
 "metadata": {
  "kernelspec": {
   "display_name": "Python 3",
   "language": "python",
   "name": "python3"
  },
  "language_info": {
   "codemirror_mode": {
    "name": "ipython",
    "version": 3
   },
   "file_extension": ".py",
   "mimetype": "text/x-python",
   "name": "python",
   "nbconvert_exporter": "python",
   "pygments_lexer": "ipython3",
   "version": "3.12.6"
  }
 },
 "nbformat": 4,
 "nbformat_minor": 2
}
