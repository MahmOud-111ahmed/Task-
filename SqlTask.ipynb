{
 "cells": [
  {
   "cell_type": "markdown",
   "metadata": {},
   "source": [
    "List all employees' names and their hire dates: "
   ]
  },
  {
   "cell_type": "code",
   "execution_count": null,
   "metadata": {},
   "outputs": [],
   "source": [
    "SELECT first_name, last_name, hire_date\n",
    "FROM employees ;"
   ]
  },
  {
   "cell_type": "markdown",
   "metadata": {},
   "source": [
    "Find the highest salary in the database"
   ]
  },
  {
   "cell_type": "code",
   "execution_count": null,
   "metadata": {},
   "outputs": [],
   "source": [
    "SELECT MAX(salary) \n",
    "FROM salaries;"
   ]
  },
  {
   "cell_type": "markdown",
   "metadata": {},
   "source": [
    "List all employees who were hired in the year 2000:\n",
    "\n",
    "Note that: to get the year in sqlite we use: strftime('%Y', date_column)"
   ]
  },
  {
   "cell_type": "code",
   "execution_count": null,
   "metadata": {},
   "outputs": [],
   "source": [
    "SELECT *\n",
    "FROM employees\n",
    "WHERE YEAR(hire_date) = 2000;"
   ]
  },
  {
   "cell_type": "markdown",
   "metadata": {},
   "source": [
    "Find the average salary for all employees:"
   ]
  },
  {
   "cell_type": "code",
   "execution_count": null,
   "metadata": {},
   "outputs": [],
   "source": [
    "SELECT AVG(salary) \n",
    "FROM salaries;"
   ]
  },
  {
   "cell_type": "markdown",
   "metadata": {},
   "source": [
    "List all departments and the number of employees in each"
   ]
  },
  {
   "cell_type": "code",
   "execution_count": null,
   "metadata": {},
   "outputs": [],
   "source": [
    "SELECT d.dept_name, d.dept_no, COUNT(e.emp_no) AS EmployeeCount\n",
    "FROM departments d\n",
    "JOIN dept_emp e ON d.dept_no = e.dept_no\n",
    "GROUP BY d.dept_name, d.dept_no;"
   ]
  },
  {
   "cell_type": "markdown",
   "metadata": {},
   "source": [
    "List all employees whose first name starts with 'A'"
   ]
  },
  {
   "cell_type": "code",
   "execution_count": null,
   "metadata": {},
   "outputs": [],
   "source": [
    "SELECT * FROM employees\n",
    "WHERE first_name LIKE 'A%';"
   ]
  },
  {
   "cell_type": "markdown",
   "metadata": {},
   "source": [
    "Find the number of employees in the 'Sales' department"
   ]
  },
  {
   "cell_type": "code",
   "execution_count": null,
   "metadata": {},
   "outputs": [],
   "source": [
    "SELECT COUNT(*) FROM dept_emp WHERE dept_no IN (SELECT dept_no FROM departments WHERE dept_name = 'Sales');"
   ]
  },
  {
   "cell_type": "markdown",
   "metadata": {},
   "source": [
    "List all employees who were hired in the year 1995"
   ]
  },
  {
   "cell_type": "code",
   "execution_count": null,
   "metadata": {},
   "outputs": [],
   "source": [
    "SELECT * FROM employees \n",
    "WHERE YEAR(hire_date) = 1995;"
   ]
  },
  {
   "cell_type": "markdown",
   "metadata": {},
   "source": [
    "Find the average salary of all employees"
   ]
  },
  {
   "cell_type": "code",
   "execution_count": null,
   "metadata": {},
   "outputs": [],
   "source": [
    "SELECT Avg(salary) FROM salaries;"
   ]
  },
  {
   "cell_type": "markdown",
   "metadata": {},
   "source": [
    "List the top 5 highest-paid employees"
   ]
  },
  {
   "cell_type": "code",
   "execution_count": null,
   "metadata": {},
   "outputs": [],
   "source": [
    "SELECT e.emp_no, e.first_name, e.last_name\n",
    "FROM employees e\n",
    "JOIN salaries s ON e.emp_no = s.emp_no\n",
    "ORDER BY s.salary DESC\n",
    "LIMIT 5;\n"
   ]
  },
  {
   "cell_type": "markdown",
   "metadata": {},
   "source": [
    "List all employees and their department names."
   ]
  },
  {
   "cell_type": "code",
   "execution_count": null,
   "metadata": {},
   "outputs": [],
   "source": [
    "SELECT first_name,last_name,dept_name \n",
    "FROM employees,departments"
   ]
  },
  {
   "cell_type": "markdown",
   "metadata": {},
   "source": [
    "Find the number of employees in each department"
   ]
  },
  {
   "cell_type": "code",
   "execution_count": null,
   "metadata": {},
   "outputs": [],
   "source": [
    "SELECT d.dept_name , d.dept_no, count(e.emp_no) \n",
    "FROM departments d\n",
    "JOIN dept_emp e ON d.dept_no = e.dept_no\n",
    "GROUP by d.dept_name"
   ]
  },
  {
   "cell_type": "markdown",
   "metadata": {},
   "source": [
    "List all employees who have never had a salary increase"
   ]
  },
  {
   "cell_type": "code",
   "execution_count": null,
   "metadata": {},
   "outputs": [],
   "source": [
    "SELECT * FROM salaries\n",
    "GROUP BY emp_no\n",
    "HAVING count(emp_no)=1;"
   ]
  },
  {
   "cell_type": "markdown",
   "metadata": {},
   "source": [
    "Find the highest salary for each department."
   ]
  },
  {
   "cell_type": "code",
   "execution_count": null,
   "metadata": {},
   "outputs": [],
   "source": [
    "SELECT d.dept_name, max(s.salary) \n",
    "FROM salaries s\n",
    "JOIN dept_emp de ON s.emp_no = de.emp_no\n",
    "JOIN departments d ON de.dept_no = d.dept_no\n",
    "GROUP BY d.dept_name;"
   ]
  },
  {
   "cell_type": "markdown",
   "metadata": {},
   "source": [
    "List all employees who have had more than one manager"
   ]
  },
  {
   "cell_type": "code",
   "execution_count": null,
   "metadata": {},
   "outputs": [],
   "source": [
    "SELECT * FROM dept_emp\n",
    "GROUP BY emp_no\n",
    "HAVING count(emp_no)>1;"
   ]
  },
  {
   "cell_type": "markdown",
   "metadata": {},
   "source": [
    "List all employees who have been with the company for more than 15 years:\n",
    "\n",
    "hint\n",
    "DATEDIFF(CURDATE(), hire_date) = > JULIANDAY(date('now')) - JULIANDAY(hire_date)"
   ]
  },
  {
   "cell_type": "code",
   "execution_count": null,
   "metadata": {},
   "outputs": [],
   "source": [
    "SELECT * FROM employees\n",
    "WHERE julianday('now') - julianday(hire_date) >= 15;"
   ]
  },
  {
   "cell_type": "markdown",
   "metadata": {},
   "source": [
    "Find the highest salary paid to an employee in the 'Sales' department:"
   ]
  },
  {
   "cell_type": "code",
   "execution_count": null,
   "metadata": {},
   "outputs": [],
   "source": [
    "SELECT max(salary) FROM salaries"
   ]
  },
  {
   "cell_type": "markdown",
   "metadata": {},
   "source": [
    "List all employees who have had more than 2 different titles:"
   ]
  },
  {
   "cell_type": "code",
   "execution_count": null,
   "metadata": {},
   "outputs": [],
   "source": [
    "SELECT *,COUNT(DISTINCT title) \n",
    "FROM titles\n",
    "GROUP BY emp_no\n",
    "HAVING COUNT(DISTINCT title) >=2"
   ]
  },
  {
   "cell_type": "markdown",
   "metadata": {},
   "source": [
    "Find the average salary for female employees in the 'Engineering' department:"
   ]
  },
  {
   "cell_type": "code",
   "execution_count": null,
   "metadata": {},
   "outputs": [],
   "source": [
    "SELECT avg(salary)\n",
    "FROM salaries s\n",
    "JOIN employees e ON s.emp_no=e.emp_no\n",
    "JOIN titles t ON e.emp_no=t.emp_no\n",
    "WHERE gender ='F' AND title='Enginee"
   ]
  },
  {
   "cell_type": "markdown",
   "metadata": {},
   "source": [
    "List all employees who have never had a salary increase"
   ]
  },
  {
   "cell_type": "code",
   "execution_count": null,
   "metadata": {},
   "outputs": [],
   "source": [
    "SELECT * FROM salaries\n",
    "GROUP BY emp_no\n",
    "HAVING count(emp_no)=1;"
   ]
  },
  {
   "cell_type": "markdown",
   "metadata": {},
   "source": [
    "Find the average salary for female employees in the 'Sales' department."
   ]
  },
  {
   "cell_type": "code",
   "execution_count": null,
   "metadata": {},
   "outputs": [],
   "source": [
    "SELECT avg(salary)\n",
    "FROM salaries s\n",
    "JOIN employees e ON s.emp_no=e.emp_no\n",
    "JOIN dept_emp de ON e.emp_no=de.emp_no\n",
    "JOIN departments d ON de.dept_no=d.dept_no\n",
    "WHERE gender ='F' AND dept_name='Sales'"
   ]
  },
  {
   "cell_type": "markdown",
   "metadata": {},
   "source": [
    "List all employees who have been with the company for more than 10 years\n",
    "\n",
    "hint: JULIANDAY(date('now')) - JULIANDAY(hire_date)"
   ]
  },
  {
   "cell_type": "code",
   "execution_count": null,
   "metadata": {},
   "outputs": [],
   "source": [
    "SELECT * FROM employees\n",
    "WHERE julianday('now') - julianday(hire_date) >= 10;"
   ]
  },
  {
   "cell_type": "markdown",
   "metadata": {},
   "source": [
    "Find the employee who has had the most job titles"
   ]
  },
  {
   "cell_type": "code",
   "execution_count": null,
   "metadata": {},
   "outputs": [],
   "source": [
    "SELECT *,COUNT(DISTINCT title) AS title_count\n",
    "FROM titles\n",
    "GROUP BY emp_no\n",
    "ORDER BY title_count DESC\n",
    "LIMIT "
   ]
  },
  {
   "cell_type": "markdown",
   "metadata": {},
   "source": [
    "List all employees who have worked in more than one department"
   ]
  },
  {
   "cell_type": "code",
   "execution_count": null,
   "metadata": {},
   "outputs": [],
   "source": [
    "SELECT * FROM dept_emp\n",
    "GROUP BY emp_no\n",
    "HAVING count(emp_no) >1;"
   ]
  },
  {
   "cell_type": "markdown",
   "metadata": {},
   "source": [
    "Find the department with the highest average salary"
   ]
  },
  {
   "cell_type": "code",
   "execution_count": null,
   "metadata": {},
   "outputs": [],
   "source": [
    "SELECT * ,avg(s.salary) AS AVG_S FROM salaries s\n",
    "LEFT JOIN employees e ON s.emp_no=e.emp_no\n",
    "LEFT JOIN dept_emp de ON e.emp_no=de.emp_no\n",
    "LEFT JOIN departments d ON de.dept_no=d.dept_no\n",
    "GROUP BY d.dept_name\n",
    "HAVING avg(s.salary)\n",
    "ORDER BY AVG_S DESC"
   ]
  },
  {
   "cell_type": "markdown",
   "metadata": {},
   "source": [
    "List all employees who have had a salary increase of more than 10%\n",
    "\n"
   ]
  },
  {
   "cell_type": "code",
   "execution_count": null,
   "metadata": {},
   "outputs": [],
   "source": [
    "SELECT employee_id, name, previous_salary, current_salary,\n",
    "       ((current_salary - previous_salary) / previous_salary) * 100 AS salary_increase_percentage\n",
    "FROM employees\n",
    "WHERE ((current_salary - previous_salary) / previous_salary) * 100 > 10;\n"
   ]
  },
  {
   "cell_type": "markdown",
   "metadata": {},
   "source": [
    "Find the top 10 highest-paid employees in the company\n",
    "\n"
   ]
  },
  {
   "cell_type": "code",
   "execution_count": null,
   "metadata": {},
   "outputs": [],
   "source": [
    "SELECT employee_id, name, salary\n",
    "FROM employees\n",
    "ORDER BY salary DESC\n",
    "LIMIT 10;\n"
   ]
  },
  {
   "cell_type": "markdown",
   "metadata": {},
   "source": [
    "List all employees who have had more than one manager:\n",
    "\n"
   ]
  },
  {
   "cell_type": "code",
   "execution_count": null,
   "metadata": {},
   "outputs": [],
   "source": [
    "SELECT e.employee_id, e.name, COUNT(DISTINCT em.manager_id) AS manager_count\n",
    "FROM employees e\n",
    "JOIN employee_managers em ON e.employee_id = em.employee_id\n",
    "GROUP BY e.employee_id, e.name\n",
    "HAVING COUNT(DISTINCT em.manager_id) > 1;\n"
   ]
  }
 ],
 "metadata": {
  "kernelspec": {
   "display_name": "Python 3",
   "language": "python",
   "name": "python3"
  },
  "language_info": {
   "name": "python",
   "version": "3.12.6"
  }
 },
 "nbformat": 4,
 "nbformat_minor": 2
}
