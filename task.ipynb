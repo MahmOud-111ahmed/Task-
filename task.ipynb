{
 "cells": [
  {
   "cell_type": "code",
   "execution_count": 3,
   "metadata": {},
   "outputs": [
    {
     "name": "stdout",
     "output_type": "stream",
     "text": [
      "list ['5', '10', '20', '30']\n",
      "Tuple ('5', '10', '20', '30')\n"
     ]
    }
   ],
   "source": [
    "# طلب إدخال الأرقام مفصولة بفواصل من المستخدم\n",
    "numbers = input(\"Enter a series of numbers separated by commas: \")\n",
    "\n",
    "# تحويل السلسلة إلى قائمة\n",
    "numbers_list = numbers.split(\",\")\n",
    "\n",
    "# تحويل القائمة إلى Tuple\n",
    "numbers_tuple = tuple(numbers_list)\n",
    "\n",
    "# طباعة النتيجة\n",
    "print(\"list\", numbers_list)\n",
    "print(\"Tuple\", numbers_tuple)"
   ]
  }
 ],
 "metadata": {
  "kernelspec": {
   "display_name": "Python 3",
   "language": "python",
   "name": "python3"
  },
  "language_info": {
   "codemirror_mode": {
    "name": "ipython",
    "version": 3
   },
   "file_extension": ".py",
   "mimetype": "text/x-python",
   "name": "python",
   "nbconvert_exporter": "python",
   "pygments_lexer": "ipython3",
   "version": "3.12.6"
  }
 },
 "nbformat": 4,
 "nbformat_minor": 2
}
