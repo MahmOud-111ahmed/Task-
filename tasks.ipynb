{
 "cells": [
  {
   "cell_type": "code",
   "execution_count": 4,
   "metadata": {},
   "outputs": [
    {
     "name": "stdout",
     "output_type": "stream",
     "text": [
      "1 can't devide 2,3,5\n",
      "2 devide 2\n",
      "3 devide 3\n",
      "4 devide 2\n"
     ]
    }
   ],
   "source": [
    "end=int(input(\"please enter number:\"))\n",
    "for i in range(1,end+1):\n",
    "    if i%2==0:\n",
    "        print(f\"{i} devide 2\")\n",
    "    elif i%3==0:\n",
    "        print(f\"{i} devide 3\")\n",
    "    elif i%5==0:\n",
    "        print(f\"{i} devide 5\")\n",
    "    else:\n",
    "        print(f\"{i} can't devide 2,3,5\")"
   ]
  },
  {
   "cell_type": "code",
   "execution_count": 5,
   "metadata": {},
   "outputs": [
    {
     "name": "stdout",
     "output_type": "stream",
     "text": [
      "3Fizz\n",
      "5Buzz\n",
      "6Fizz\n",
      "9Fizz\n",
      "10Buzz\n",
      "12Fizz\n",
      "15FizzBuzz\n",
      "18Fizz\n",
      "20Buzz\n",
      "21Fizz\n",
      "24Fizz\n",
      "25Buzz\n",
      "27Fizz\n",
      "30FizzBuzz\n",
      "33Fizz\n",
      "35Buzz\n",
      "36Fizz\n",
      "39Fizz\n",
      "40Buzz\n",
      "42Fizz\n",
      "45FizzBuzz\n",
      "48Fizz\n",
      "50Buzz\n",
      "51Fizz\n",
      "54Fizz\n",
      "55Buzz\n",
      "57Fizz\n",
      "60FizzBuzz\n",
      "63Fizz\n",
      "65Buzz\n",
      "66Fizz\n",
      "69Fizz\n",
      "70Buzz\n",
      "72Fizz\n",
      "75FizzBuzz\n",
      "78Fizz\n",
      "80Buzz\n",
      "81Fizz\n",
      "84Fizz\n",
      "85Buzz\n",
      "87Fizz\n",
      "90FizzBuzz\n",
      "93Fizz\n",
      "95Buzz\n",
      "96Fizz\n",
      "99Fizz\n",
      "100Buzz\n"
     ]
    }
   ],
   "source": [
    "i=1\n",
    "while(i<=100):\n",
    "    if i%3==0 and i%5==0:\n",
    "        print(f\"{i}FizzBuzz\")\n",
    "    elif i%3==0:\n",
    "        print(f\"{i}Fizz\")\n",
    "    elif i%5==0:\n",
    "        print(f\"{i}Buzz\")\n",
    "    i+=1"
   ]
  },
  {
   "cell_type": "code",
   "execution_count": 14,
   "metadata": {},
   "outputs": [
    {
     "data": {
      "text/plain": [
       "10"
      ]
     },
     "execution_count": 14,
     "metadata": {},
     "output_type": "execute_result"
    }
   ],
   "source": [
    "\n",
    "def Function_Abslut(num):\n",
    "    if num>=0:\n",
    "        return num\n",
    "    elif num<0:\n",
    "        return -num\n",
    "x=int(input(\"Enter number\"))\n",
    "Function_Abslut(x)"
   ]
  },
  {
   "cell_type": "code",
   "execution_count": null,
   "metadata": {},
   "outputs": [],
   "source": []
  }
 ],
 "metadata": {
  "kernelspec": {
   "display_name": "Python 3",
   "language": "python",
   "name": "python3"
  },
  "language_info": {
   "codemirror_mode": {
    "name": "ipython",
    "version": 3
   },
   "file_extension": ".py",
   "mimetype": "text/x-python",
   "name": "python",
   "nbconvert_exporter": "python",
   "pygments_lexer": "ipython3",
   "version": "3.12.6"
  }
 },
 "nbformat": 4,
 "nbformat_minor": 2
}
